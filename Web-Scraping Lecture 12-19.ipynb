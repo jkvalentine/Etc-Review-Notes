{
 "cells": [
  {
   "cell_type": "code",
   "execution_count": null,
   "metadata": {
    "collapsed": true
   },
   "outputs": [],
   "source": [
    "from IPython.core.display import HTML\n",
    "# Most of this lecture is stolen from Cary, a little from Eric and some other scattered pieces"
   ]
  },
  {
   "cell_type": "markdown",
   "metadata": {},
   "source": [
    "# What is web scraping?\n",
    "\n",
    "The practice of gathering data through any means other than a program interacting with an API."
   ]
  },
  {
   "cell_type": "markdown",
   "metadata": {},
   "source": [
    "# Why do we web scrape?\n",
    "\n",
    "Browsers are good for many things, but not so much for gathering information\n",
    "\n",
    "- Sometimes the data we want isn't available packaged all nicely\n",
    "- Sometimes the company doesn't want to make it easy for us to get all their data\n",
    "- Sometimes the data source we need isn't big enough to warrant that company creating an API"
   ]
  },
  {
   "cell_type": "markdown",
   "metadata": {},
   "source": [
    "# How do we do it?\n",
    "\n",
    "If you can view it in your browser, you can grab it with a python script!\n",
    "\n",
    "We'll discuss what packages you need when we get there."
   ]
  },
  {
   "cell_type": "markdown",
   "metadata": {},
   "source": [
    "# Is there an easier way?\n",
    "\n",
    "API's are a thing. Sometimes they give us what we need and that's nice."
   ]
  },
  {
   "cell_type": "markdown",
   "metadata": {},
   "source": [
    "# What are the keys to a good scraper?\n",
    "\n",
    "Some things to keep in mind when building your scraper:\n",
    "\n",
    "- Save all the data you collect\n",
    "- Don't abuse try:excepts\n",
    "- Don't get banned from the site you're interested in"
   ]
  },
  {
   "cell_type": "markdown",
   "metadata": {},
   "source": [
    "## Afternoon Objectives\n",
    "\n",
    "1. Understand the process of getting data from the web.\n",
    "2. Know the basics of HTML/CSS:\n",
    "    * Know how to pull desired data from web pages.\n",
    "3. Be able to use existing API's to get fetch pre-formatted data.\n",
    "\n",
    "### Internet vs. World Wide Web\n",
    "\n",
    "* The internet is commonly refered to as a network of networks. It is the infrastructure that allows networks all around the world to connect with one another. There are many different protocols to transfer information within this larger, meta-network.\n",
    "* The World Wide Web, or Web, provides one of the ways that data can be transfered over the internet. Uses a **U**niform **R**esource **L**ocator, URL, to specify the location, within the internet, of a document.\n",
    "* Documents on the web are generally written in **H**yper**T**ext **M**arkup **L**anguage, HTML, which can be natively viewed by browsers, the tool that we use to browse the web.\n",
    "\n",
    "### Communication on the Web\n",
    "\n",
    "Information is transmitted around the web through a number of protocols. The main one that you will see is the **H**yper**T**ext **T**ransfer **P**rotocol, HTTP. These transfers, called **requests**, are initiated in a number of ways, but always begin with the client, read: you at your browser.\n",
    "\n",
    "There are 4 main types of request that can be issued by your browser: get, post, put and delete. For web scraping purposes, you will almost always be using get requests. We will learn some more about the others in a couple of weeks during data products day."
   ]
  },
  {
   "cell_type": "markdown",
   "metadata": {},
   "source": [
    "### HTML & CSS\n",
    "HTML, or *HyperText Markup Language*, is the language that virtually all web pages are written in.  HTML allows us to describe how web pages should render themselves and display content.  They do this by using *HTML Tags*, where each tag is describing different document content.  For example we could specify the title of our page with the following tags: `<title>This is the Title!</title>`.  `<title>` is the opening tag and `</title>` is the corresponding closing tag.  Anything that falls in the middle will be interpreted as the title of the document.  For a more in-depth introduction to HTML, please refer to [this w3schools Tutorial](http://www.w3schools.com/html/html_intro.asp).\n",
    "\n",
    "We can also apply *attributes* to HTML tags to control how they will be stylized.  Let's say we would like to change the color of our super original title tag to red to make it pop.  We could easily achieve this with the following style attribute: `<title style=\"color:red;\">This is a red Title!</title>`.  But what if we have a very large website and want to change the look and feel of the entire thing?  Certainly there has to be a better way than manually manipulating individual tags?  \n",
    "\n",
    "This can easily be achieved with the use of *Cascading Style Sheets*, or CSS.  Typically CSS is defined in a separate style sheet file with a `.css` extension which controls how certain tags are stylized.  For example, the following CSS block would make any `<p>` tags have red text and be in the courier font:\n",
    "\n",
    "```css\n",
    "p  {\n",
    "    color: red;\n",
    "    font-family: courier;\n",
    "}\n",
    "```\n",
    "\n",
    "This is all well and good, but our goal isn't to build websites, it's to systematically extract information from them!  To this end, CSS selectors provide a succinct way of only selecting certain aspects from a potentially giant block of HTML.\n",
    "\n",
    "#### CSS Selectors\n",
    "To really see the power of CSS selectors we need to see them in action!  To that end, try getting through the first 10-15 levels of the [Game of Fruit](http://flukeout.github.io/).\n",
    "\n",
    "You can also refer to this [CSS Selector Cheatsheet](http://www.cheetyr.com/css-selectors)"
   ]
  },
  {
   "cell_type": "markdown",
   "metadata": {},
   "source": [
    "# Scraping from a Web Page with Python\n",
    "\n",
    "Scraping a web site basically comes down to making a request from Python and parsing through the HTML that is returned from each page. For each of these tasks we have a Python library, `requests` and `bs4`, respectively.\n",
    "\n",
    "### Requests Library\n",
    "\n",
    "The [requests](http://docs.python-requests.org/en/latest/index.html) library is designed to simplify the process of making http requests within Python. The interface is mindbogglingly simple. Instantiate a requests object to the request, this will mostly be a `get`, with the URL and optional parameters you'd like passed through the request. That instance make the results of the request available via attributes/methods."
   ]
  },
  {
   "cell_type": "code",
   "execution_count": null,
   "metadata": {
    "collapsed": true
   },
   "outputs": [],
   "source": [
    "import requests\n",
    "fun_cheap = 'http://sf.funcheap.com'\n",
    "r = requests.get('http://sf.funcheap.com/2016/06/25/')"
   ]
  },
  {
   "cell_type": "code",
   "execution_count": null,
   "metadata": {
    "collapsed": true
   },
   "outputs": [],
   "source": [
    "r.text[:1000] # First 1000 characters of the HTML"
   ]
  },
  {
   "cell_type": "markdown",
   "metadata": {},
   "source": [
    "### Getting Info from a Web Page with BeautifulSoup\n",
    "\n",
    "Now that we can gain easy access to the HMTL for a web page, we need some way to pull the desired content from it. Luckily there is already a system in place to do this. With a combination of HMTL and CSS selectors we can identify the information on a HMTL page that we wish to retrieve and grab it with [BeautifulSoup](https://www.crummy.com/software/BeautifulSoup/bs4/doc/#searching-the-tree)."
   ]
  },
  {
   "cell_type": "markdown",
   "metadata": {},
   "source": [
    "“Beautiful Soup, so rich and green,\n",
    "\n",
    "Waiting in a hot tureen!\n",
    "\n",
    "Who for such dainties would not stoop?\n",
    "\n",
    "Soup of the evening, beautiful Soup!”\n",
    "\n",
    "--Lewis Carroll"
   ]
  },
  {
   "cell_type": "code",
   "execution_count": 1,
   "metadata": {
    "collapsed": true
   },
   "outputs": [],
   "source": [
    "import requests\n",
    "import re\n",
    "from bs4 import BeautifulSoup"
   ]
  },
  {
   "cell_type": "code",
   "execution_count": 2,
   "metadata": {
    "collapsed": true
   },
   "outputs": [],
   "source": [
    "r = requests.get('http://www.espn.com/college-football/statistics/player/_/stat/passing/sort/passingYards/year/2015/qualified/false/count/1')"
   ]
  },
  {
   "cell_type": "code",
   "execution_count": 3,
   "metadata": {
    "collapsed": false
   },
   "outputs": [],
   "source": [
    "bs_obj = BeautifulSoup(r.text, 'html.parser')"
   ]
  },
  {
   "cell_type": "code",
   "execution_count": 4,
   "metadata": {
    "collapsed": false
   },
   "outputs": [
    {
     "data": {
      "text/plain": [
       "[<tr align=\"right\" class=\"oddrow player-23-504866\"><td align=\"left\">1</td><td align=\"left\"><a href=\"http://www.espn.com/college-football/player/_/id/504866/brandon-doughty\">Brandon Doughty</a>, QB</td><td align=\"left\"><span title=\"Western Kentucky\">WKU</span></td><td>388</td><td>540</td><td>71.9</td><td class=\"sortcell\">5055</td><td>9.4</td><td>78</td><td>48</td><td>9</td><td>15</td><td>176.5</td></tr>,\n",
       " <tr align=\"right\" class=\"oddrow player-23-547401\"><td align=\"left\">3</td><td align=\"left\"><a href=\"http://www.espn.com/college-football/player/_/id/547401/jared-goff\">Jared Goff</a>, QB</td><td align=\"left\"><span title=\"California\">CAL</span></td><td>341</td><td>529</td><td>64.5</td><td class=\"sortcell\">4719</td><td>8.9</td><td>80</td><td>43</td><td>13</td><td>26</td><td>161.3</td></tr>,\n",
       " <tr align=\"right\" class=\"oddrow player-23-550629\"><td align=\"left\">5</td><td align=\"left\"><a href=\"http://www.espn.com/college-football/player/_/id/550629/luke-falk\">Luke Falk</a>, QB</td><td align=\"left\"><span title=\"Washington State\">WSU</span></td><td>447</td><td>644</td><td>69.4</td><td class=\"sortcell\">4561</td><td>7.1</td><td>75</td><td>38</td><td>8</td><td>37</td><td>145.9</td></tr>,\n",
       " <tr align=\"right\" class=\"oddrow player-23-3124848\"><td align=\"left\">7</td><td align=\"left\"><a href=\"http://www.espn.com/college-football/player/_/id/3124848/nick-arbuckle\">Nick Arbuckle</a>, QB</td><td align=\"left\"><span title=\"Georgia State\">GAST</span></td><td>307</td><td>486</td><td>63.2</td><td class=\"sortcell\">4368</td><td>9.0</td><td>76</td><td>28</td><td>12</td><td>32</td><td>152.7</td></tr>,\n",
       " <tr align=\"right\" class=\"oddrow player-23-3122840\"><td align=\"left\">9</td><td align=\"left\"><a href=\"http://www.espn.com/college-football/player/_/id/3122840/deshaun-watson\">Deshaun Watson</a>, QB</td><td align=\"left\"><span title=\"Clemson\">CLEM</span></td><td>333</td><td>491</td><td>67.8</td><td class=\"sortcell\">4104</td><td>8.4</td><td>67</td><td>35</td><td>13</td><td>15</td><td>156.3</td></tr>,\n",
       " <tr align=\"right\" class=\"oddrow player-23-511889\"><td align=\"left\">11</td><td align=\"left\"><a href=\"http://www.espn.com/college-football/player/_/id/511889/jeff-driskel\">Jeff Driskel</a>, QB</td><td align=\"left\"><span title=\"Louisiana Tech\">LT</span></td><td>281</td><td>450</td><td>62.4</td><td class=\"sortcell\">4033</td><td>9.0</td><td>72</td><td>27</td><td>8</td><td>19</td><td>154.0</td></tr>,\n",
       " <tr align=\"right\" class=\"oddrow player-23-517393\"><td align=\"left\">13</td><td align=\"left\"><a href=\"http://www.espn.com/college-football/player/_/id/517393/mike-bercovici\">Mike Bercovici</a>, QB</td><td align=\"left\"><span title=\"Arizona State\">ASU</span></td><td>319</td><td>532</td><td>60.0</td><td class=\"sortcell\">3860</td><td>7.3</td><td>93</td><td>30</td><td>9</td><td>37</td><td>136.1</td></tr>,\n",
       " <tr align=\"right\" class=\"oddrow player-23-512030\"><td align=\"left\">15</td><td align=\"left\"><a href=\"http://www.espn.com/college-football/player/_/id/512030/dak-prescott\">Dak Prescott</a>, QB</td><td align=\"left\"><span title=\"Mississippi State\">MSST</span></td><td>316</td><td>477</td><td>66.2</td><td class=\"sortcell\">3793</td><td>8.0</td><td>63</td><td>29</td><td>5</td><td>32</td><td>151.0</td></tr>,\n",
       " <tr align=\"right\" class=\"oddrow player-23-3116407\"><td align=\"left\">17</td><td align=\"left\"><a href=\"http://www.espn.com/college-football/player/_/id/3116407/mason-rudolph\">Mason Rudolph</a>, QB</td><td align=\"left\"><span title=\"Oklahoma State\">OKST</span></td><td>264</td><td>424</td><td>62.3</td><td class=\"sortcell\">3770</td><td>8.9</td><td>82</td><td>21</td><td>9</td><td>30</td><td>149.1</td></tr>,\n",
       " <tr align=\"right\" class=\"oddrow player-23-3886377\"><td align=\"left\">19</td><td align=\"left\"><a href=\"http://www.espn.com/college-football/player/_/id/3886377/josh-rosen\">Josh Rosen</a>, QB</td><td align=\"left\"><span title=\"UCLA\">UCLA</span></td><td>292</td><td>487</td><td>60.0</td><td class=\"sortcell\">3670</td><td>7.5</td><td>70</td><td>23</td><td>11</td><td>15</td><td>134.3</td></tr>,\n",
       " <tr align=\"right\" class=\"oddrow player-23-535825\"><td align=\"left\">21</td><td align=\"left\"><a href=\"http://www.espn.com/college-football/player/_/id/535825/nate-sudfeld\">Nate Sudfeld</a>, QB</td><td align=\"left\"><span title=\"Indiana\">IND</span></td><td>247</td><td>412</td><td>60.0</td><td class=\"sortcell\">3573</td><td>8.7</td><td>72</td><td>27</td><td>7</td><td>9</td><td>151.0</td></tr>,\n",
       " <tr align=\"right\" class=\"oddrow player-23-532645\"><td align=\"left\">23</td><td align=\"left\"><a href=\"http://www.espn.com/college-football/player/_/id/532645/zach-terrell\">Zach Terrell</a>, QB</td><td align=\"left\"><span title=\"Western Michigan\">WMU</span></td><td>262</td><td>391</td><td>67.0</td><td class=\"sortcell\">3522</td><td>9.0</td><td>80</td><td>29</td><td>9</td><td>31</td><td>162.5</td></tr>,\n",
       " <tr align=\"right\" class=\"oddrow player-23-545796\"><td align=\"left\">25</td><td align=\"left\"><a href=\"http://www.espn.com/college-football/player/_/id/545796/tanner-mangum\">Tanner Mangum</a>, QB</td><td align=\"left\"><span title=\"BYU\">BYU</span></td><td>267</td><td>446</td><td>59.9</td><td class=\"sortcell\">3377</td><td>7.6</td><td>84</td><td>23</td><td>10</td><td>30</td><td>136.0</td></tr>,\n",
       " <tr align=\"right\" class=\"oddrow player-23-3123048\"><td align=\"left\">27</td><td align=\"left\"><a href=\"http://www.espn.com/college-football/player/_/id/3123048/brad-kaaya\">Brad Kaaya</a>, QB</td><td align=\"left\"><span title=\"Miami\">MIAMI</span></td><td>238</td><td>389</td><td>61.2</td><td class=\"sortcell\">3238</td><td>8.3</td><td>67</td><td>16</td><td>5</td><td>16</td><td>142.1</td></tr>,\n",
       " <tr align=\"right\" class=\"oddrow player-23-512705\"><td align=\"left\">29</td><td align=\"left\"><a href=\"http://www.espn.com/college-football/player/_/id/512705/connor-cook\">Connor Cook</a>, QB</td><td align=\"left\"><span title=\"Michigan State\">MSU</span></td><td>229</td><td>408</td><td>56.1</td><td class=\"sortcell\">3131</td><td>7.7</td><td>74</td><td>24</td><td>7</td><td>18</td><td>136.6</td></tr>,\n",
       " <tr align=\"right\" class=\"oddrow player-23-516347\"><td align=\"left\">31</td><td align=\"left\"><a href=\"http://www.espn.com/college-football/player/_/id/516347/marquise-williams\">Marquise Williams</a>, QB</td><td align=\"left\"><span title=\"North Carolina\">UNC</span></td><td>219</td><td>357</td><td>61.3</td><td class=\"sortcell\">3072</td><td>8.6</td><td>89</td><td>24</td><td>10</td><td>15</td><td>150.2</td></tr>,\n",
       " <tr align=\"right\" class=\"oddrow player-23-518380\"><td align=\"left\">33</td><td align=\"left\"><a href=\"http://www.espn.com/college-football/player/_/id/518380/jake-rudock\">Jake Rudock</a>, QB</td><td align=\"left\"><span title=\"Michigan\">MICH</span></td><td>249</td><td>389</td><td>64.0</td><td class=\"sortcell\">3017</td><td>7.8</td><td>64</td><td>20</td><td>9</td><td>17</td><td>141.5</td></tr>,\n",
       " <tr align=\"right\" class=\"oddrow player-23-549759\"><td align=\"left\">35</td><td align=\"left\"><a href=\"http://www.espn.com/college-football/player/_/id/549759/phillip-walker\">Phillip Walker</a>, QB</td><td align=\"left\"><span title=\"Temple\">TEM</span></td><td>246</td><td>433</td><td>56.8</td><td class=\"sortcell\">2973</td><td>6.9</td><td>75</td><td>19</td><td>8</td><td>18</td><td>125.3</td></tr>,\n",
       " <tr align=\"right\" class=\"oddrow player-23-515906\"><td align=\"left\">37</td><td align=\"left\"><a href=\"http://www.espn.com/college-football/player/_/id/515906/phillip-ely\">Phillip Ely</a>, QB</td><td align=\"left\"><span title=\"Toledo\">TOL</span></td><td>226</td><td>403</td><td>56.1</td><td class=\"sortcell\">2965</td><td>7.4</td><td>88</td><td>23</td><td>10</td><td>4</td><td>131.7</td></tr>,\n",
       " <tr align=\"right\" class=\"oddrow player-23-518271\"><td align=\"left\">39</td><td align=\"left\"><a href=\"http://www.espn.com/college-football/player/_/id/518271/blake-frohnapfel\">Blake Frohnapfel</a>, QB</td><td align=\"left\"><span title=\"Massachusetts\">UMASS</span></td><td>266</td><td>472</td><td>56.4</td><td class=\"sortcell\">2919</td><td>6.2</td><td>62</td><td>16</td><td>13</td><td>26</td><td>114.0</td></tr>]"
      ]
     },
     "execution_count": 4,
     "metadata": {},
     "output_type": "execute_result"
    }
   ],
   "source": [
    "bs_obj.findAll('tr',{'class':'evenrow','class':'oddrow'})"
   ]
  },
  {
   "cell_type": "code",
   "execution_count": 5,
   "metadata": {
    "collapsed": false
   },
   "outputs": [
    {
     "data": {
      "text/plain": [
       "[<tr align=\"right\" class=\"oddrow player-23-504866\"><td align=\"left\">1</td><td align=\"left\"><a href=\"http://www.espn.com/college-football/player/_/id/504866/brandon-doughty\">Brandon Doughty</a>, QB</td><td align=\"left\"><span title=\"Western Kentucky\">WKU</span></td><td>388</td><td>540</td><td>71.9</td><td class=\"sortcell\">5055</td><td>9.4</td><td>78</td><td>48</td><td>9</td><td>15</td><td>176.5</td></tr>,\n",
       " <tr align=\"right\" class=\"evenrow player-23-513573\"><td align=\"left\">2</td><td align=\"left\"><a href=\"http://www.espn.com/college-football/player/_/id/513573/matt-johnson\">Matt Quinn Johnson</a>, QB</td><td align=\"left\"><span title=\"Bowling Green\">BGSU</span></td><td>383</td><td>569</td><td>67.3</td><td class=\"sortcell\">4946</td><td>8.7</td><td>94</td><td>46</td><td>8</td><td>36</td><td>164.2</td></tr>,\n",
       " <tr align=\"right\" class=\"oddrow player-23-547401\"><td align=\"left\">3</td><td align=\"left\"><a href=\"http://www.espn.com/college-football/player/_/id/547401/jared-goff\">Jared Goff</a>, QB</td><td align=\"left\"><span title=\"California\">CAL</span></td><td>341</td><td>529</td><td>64.5</td><td class=\"sortcell\">4719</td><td>8.9</td><td>80</td><td>43</td><td>13</td><td>26</td><td>161.3</td></tr>,\n",
       " <tr align=\"right\" class=\"evenrow player-23-3139477\"><td align=\"left\">4</td><td align=\"left\"><a href=\"http://www.espn.com/college-football/player/_/id/3139477/patrick-mahomes-ii\">Patrick Mahomes II</a>, QB</td><td align=\"left\"><span title=\"Texas Tech\">TTU</span></td><td>364</td><td>573</td><td>63.5</td><td class=\"sortcell\">4653</td><td>8.1</td><td>90</td><td>36</td><td>15</td><td>27</td><td>147.2</td></tr>,\n",
       " <tr align=\"right\" class=\"oddrow player-23-550629\"><td align=\"left\">5</td><td align=\"left\"><a href=\"http://www.espn.com/college-football/player/_/id/550629/luke-falk\">Luke Falk</a>, QB</td><td align=\"left\"><span title=\"Washington State\">WSU</span></td><td>447</td><td>644</td><td>69.4</td><td class=\"sortcell\">4561</td><td>7.1</td><td>75</td><td>38</td><td>8</td><td>37</td><td>145.9</td></tr>,\n",
       " <tr align=\"right\" class=\"evenrow player-23-552880\"><td align=\"left\">6</td><td align=\"left\"><a href=\"http://www.espn.com/college-football/player/_/id/552880/nick-mullens\">Nick Mullens</a>, QB</td><td align=\"left\"><span title=\"Southern Mississippi\">USM</span></td><td>331</td><td>521</td><td>63.5</td><td class=\"sortcell\">4476</td><td>8.6</td><td>69</td><td>38</td><td>12</td><td>24</td><td>155.2</td></tr>,\n",
       " <tr align=\"right\" class=\"oddrow player-23-3124848\"><td align=\"left\">7</td><td align=\"left\"><a href=\"http://www.espn.com/college-football/player/_/id/3124848/nick-arbuckle\">Nick Arbuckle</a>, QB</td><td align=\"left\"><span title=\"Georgia State\">GAST</span></td><td>307</td><td>486</td><td>63.2</td><td class=\"sortcell\">4368</td><td>9.0</td><td>76</td><td>28</td><td>12</td><td>32</td><td>152.7</td></tr>,\n",
       " <tr align=\"right\" class=\"evenrow player-23-532273\"><td align=\"left\">8</td><td align=\"left\"><a href=\"http://www.espn.com/college-football/player/_/id/532273/dane-evans\">Dane Evans</a>, QB</td><td align=\"left\"><span title=\"Tulsa\">TLSA</span></td><td>305</td><td>485</td><td>62.9</td><td class=\"sortcell\">4332</td><td>8.9</td><td>80</td><td>25</td><td>8</td><td>40</td><td>151.6</td></tr>,\n",
       " <tr align=\"right\" class=\"oddrow player-23-3122840\"><td align=\"left\">9</td><td align=\"left\"><a href=\"http://www.espn.com/college-football/player/_/id/3122840/deshaun-watson\">Deshaun Watson</a>, QB</td><td align=\"left\"><span title=\"Clemson\">CLEM</span></td><td>333</td><td>491</td><td>67.8</td><td class=\"sortcell\">4104</td><td>8.4</td><td>67</td><td>35</td><td>13</td><td>15</td><td>156.3</td></tr>,\n",
       " <tr align=\"right\" class=\"evenrow player-23-534580\"><td align=\"left\">10</td><td align=\"left\"><a href=\"http://www.espn.com/college-football/player/_/id/534580/chad-kelly\">Chad Kelly</a>, QB</td><td align=\"left\"><span title=\"Ole Miss\">MISS</span></td><td>298</td><td>458</td><td>65.1</td><td class=\"sortcell\">4042</td><td>8.8</td><td>73</td><td>31</td><td>13</td><td>18</td><td>155.9</td></tr>,\n",
       " <tr align=\"right\" class=\"oddrow player-23-511889\"><td align=\"left\">11</td><td align=\"left\"><a href=\"http://www.espn.com/college-football/player/_/id/511889/jeff-driskel\">Jeff Driskel</a>, QB</td><td align=\"left\"><span title=\"Louisiana Tech\">LT</span></td><td>281</td><td>450</td><td>62.4</td><td class=\"sortcell\">4033</td><td>9.0</td><td>72</td><td>27</td><td>8</td><td>19</td><td>154.0</td></tr>,\n",
       " <tr align=\"right\" class=\"evenrow player-23-545683\"><td align=\"left\">12</td><td align=\"left\"><a href=\"http://www.espn.com/college-football/player/_/id/545683/brent-stockstill\">Brent Stockstill</a>, QB</td><td align=\"left\"><span title=\"Middle Tennessee\">MTSU</span></td><td>327</td><td>490</td><td>66.7</td><td class=\"sortcell\">4005</td><td>8.2</td><td>76</td><td>30</td><td>9</td><td>17</td><td>151.9</td></tr>,\n",
       " <tr align=\"right\" class=\"oddrow player-23-517393\"><td align=\"left\">13</td><td align=\"left\"><a href=\"http://www.espn.com/college-football/player/_/id/517393/mike-bercovici\">Mike Bercovici</a>, QB</td><td align=\"left\"><span title=\"Arizona State\">ASU</span></td><td>319</td><td>532</td><td>60.0</td><td class=\"sortcell\">3860</td><td>7.3</td><td>93</td><td>30</td><td>9</td><td>37</td><td>136.1</td></tr>,\n",
       " <tr align=\"right\" class=\"evenrow player-23-531455\"><td align=\"left\">14</td><td align=\"left\"><a href=\"http://www.espn.com/college-football/player/_/id/531455/cooper-rush\">Cooper Rush</a>, QB</td><td align=\"left\"><span title=\"Central Michigan\">CMU</span></td><td>324</td><td>489</td><td>66.3</td><td class=\"sortcell\">3848</td><td>7.9</td><td>83</td><td>25</td><td>11</td><td>27</td><td>144.7</td></tr>,\n",
       " <tr align=\"right\" class=\"oddrow player-23-512030\"><td align=\"left\">15</td><td align=\"left\"><a href=\"http://www.espn.com/college-football/player/_/id/512030/dak-prescott\">Dak Prescott</a>, QB</td><td align=\"left\"><span title=\"Mississippi State\">MSST</span></td><td>316</td><td>477</td><td>66.2</td><td class=\"sortcell\">3793</td><td>8.0</td><td>63</td><td>29</td><td>5</td><td>32</td><td>151.0</td></tr>,\n",
       " <tr align=\"right\" class=\"evenrow player-23-534849\"><td align=\"left\">16</td><td align=\"left\"><a href=\"http://www.espn.com/college-football/player/_/id/534849/paxton-lynch\">Paxton Lynch</a>, QB</td><td align=\"left\"><span title=\"Memphis\">MEM</span></td><td>296</td><td>443</td><td>66.8</td><td class=\"sortcell\">3776</td><td>8.5</td><td>82</td><td>28</td><td>4</td><td>17</td><td>157.5</td></tr>,\n",
       " <tr align=\"right\" class=\"oddrow player-23-3116407\"><td align=\"left\">17</td><td align=\"left\"><a href=\"http://www.espn.com/college-football/player/_/id/3116407/mason-rudolph\">Mason Rudolph</a>, QB</td><td align=\"left\"><span title=\"Oklahoma State\">OKST</span></td><td>264</td><td>424</td><td>62.3</td><td class=\"sortcell\">3770</td><td>8.9</td><td>82</td><td>21</td><td>9</td><td>30</td><td>149.1</td></tr>,\n",
       " <tr align=\"right\" class=\"evenrow player-23-550373\"><td align=\"left\">18</td><td align=\"left\"><a href=\"http://www.espn.com/college-football/player/_/id/550373/baker-mayfield\">Baker Mayfield</a>, QB</td><td align=\"left\"><span title=\"Oklahoma\">OKLA</span></td><td>269</td><td>395</td><td>68.1</td><td class=\"sortcell\">3700</td><td>9.4</td><td>76</td><td>36</td><td>7</td><td>39</td><td>173.3</td></tr>,\n",
       " <tr align=\"right\" class=\"oddrow player-23-3886377\"><td align=\"left\">19</td><td align=\"left\"><a href=\"http://www.espn.com/college-football/player/_/id/3886377/josh-rosen\">Josh Rosen</a>, QB</td><td align=\"left\"><span title=\"UCLA\">UCLA</span></td><td>292</td><td>487</td><td>60.0</td><td class=\"sortcell\">3670</td><td>7.5</td><td>70</td><td>23</td><td>11</td><td>15</td><td>134.3</td></tr>,\n",
       " <tr align=\"right\" class=\"evenrow player-23-517127\"><td align=\"left\">20</td><td align=\"left\"><a href=\"http://www.espn.com/college-football/player/_/id/517127/trevone-boykin\">Trevone Boykin</a>, QB</td><td align=\"left\"><span title=\"TCU\">TCU</span></td><td>257</td><td>396</td><td>64.9</td><td class=\"sortcell\">3575</td><td>9.0</td><td>70</td><td>31</td><td>10</td><td>12</td><td>161.5</td></tr>,\n",
       " <tr align=\"right\" class=\"oddrow player-23-535825\"><td align=\"left\">21</td><td align=\"left\"><a href=\"http://www.espn.com/college-football/player/_/id/535825/nate-sudfeld\">Nate Sudfeld</a>, QB</td><td align=\"left\"><span title=\"Indiana\">IND</span></td><td>247</td><td>412</td><td>60.0</td><td class=\"sortcell\">3573</td><td>8.7</td><td>72</td><td>27</td><td>7</td><td>9</td><td>151.0</td></tr>,\n",
       " <tr align=\"right\" class=\"evenrow player-23-513329\"><td align=\"left\">22</td><td align=\"left\"><a href=\"http://www.espn.com/college-football/player/_/id/513329/cody-kessler\">Cody Kessler</a>, QB</td><td align=\"left\"><span title=\"USC\">USC</span></td><td>298</td><td>446</td><td>66.8</td><td class=\"sortcell\">3536</td><td>7.9</td><td>83</td><td>29</td><td>7</td><td>38</td><td>151.7</td></tr>,\n",
       " <tr align=\"right\" class=\"oddrow player-23-532645\"><td align=\"left\">23</td><td align=\"left\"><a href=\"http://www.espn.com/college-football/player/_/id/532645/zach-terrell\">Zach Terrell</a>, QB</td><td align=\"left\"><span title=\"Western Michigan\">WMU</span></td><td>262</td><td>391</td><td>67.0</td><td class=\"sortcell\">3522</td><td>9.0</td><td>80</td><td>29</td><td>9</td><td>31</td><td>162.5</td></tr>,\n",
       " <tr align=\"right\" class=\"evenrow player-23-515915\"><td align=\"left\">24</td><td align=\"left\"><a href=\"http://www.espn.com/college-football/player/_/id/515915/brandon-allen\">Brandon Allen</a>, QB</td><td align=\"left\"><span title=\"Arkansas\">ARK</span></td><td>244</td><td>370</td><td>65.9</td><td class=\"sortcell\">3440</td><td>9.3</td><td>71</td><td>30</td><td>8</td><td>14</td><td>166.5</td></tr>,\n",
       " <tr align=\"right\" class=\"oddrow player-23-545796\"><td align=\"left\">25</td><td align=\"left\"><a href=\"http://www.espn.com/college-football/player/_/id/545796/tanner-mangum\">Tanner Mangum</a>, QB</td><td align=\"left\"><span title=\"BYU\">BYU</span></td><td>267</td><td>446</td><td>59.9</td><td class=\"sortcell\">3377</td><td>7.6</td><td>84</td><td>23</td><td>10</td><td>30</td><td>136.0</td></tr>,\n",
       " <tr align=\"right\" class=\"evenrow player-23-3722362\"><td align=\"left\">26</td><td align=\"left\"><a href=\"http://www.espn.com/college-football/player/_/id/3722362/brett-rypien\">Brett Rypien</a>, QB</td><td align=\"left\"><span title=\"Boise State\">BSU</span></td><td>273</td><td>430</td><td>63.5</td><td class=\"sortcell\">3353</td><td>7.8</td><td>85</td><td>20</td><td>8</td><td>20</td><td>140.6</td></tr>,\n",
       " <tr align=\"right\" class=\"oddrow player-23-3123048\"><td align=\"left\">27</td><td align=\"left\"><a href=\"http://www.espn.com/college-football/player/_/id/3123048/brad-kaaya\">Brad Kaaya</a>, QB</td><td align=\"left\"><span title=\"Miami\">MIAMI</span></td><td>238</td><td>389</td><td>61.2</td><td class=\"sortcell\">3238</td><td>8.3</td><td>67</td><td>16</td><td>5</td><td>16</td><td>142.1</td></tr>,\n",
       " <tr align=\"right\" class=\"evenrow player-23-3116460\"><td align=\"left\">28</td><td align=\"left\"><a href=\"http://www.espn.com/college-football/player/_/id/3116460/skyler-howard\">Skyler Howard</a>, QB</td><td align=\"left\"><span title=\"West Virginia\">WVU</span></td><td>221</td><td>403</td><td>54.8</td><td class=\"sortcell\">3145</td><td>7.8</td><td>70</td><td>26</td><td>14</td><td>31</td><td>134.7</td></tr>,\n",
       " <tr align=\"right\" class=\"oddrow player-23-512705\"><td align=\"left\">29</td><td align=\"left\"><a href=\"http://www.espn.com/college-football/player/_/id/512705/connor-cook\">Connor Cook</a>, QB</td><td align=\"left\"><span title=\"Michigan State\">MSU</span></td><td>229</td><td>408</td><td>56.1</td><td class=\"sortcell\">3131</td><td>7.7</td><td>74</td><td>24</td><td>7</td><td>18</td><td>136.6</td></tr>,\n",
       " <tr align=\"right\" class=\"evenrow player-23-514124\"><td align=\"left\">30</td><td align=\"left\"><a href=\"http://www.espn.com/college-football/player/_/id/514124/jake-coker\">Jake Coker</a>, QB</td><td align=\"left\"><span title=\"Alabama\">ALA</span></td><td>263</td><td>393</td><td>66.9</td><td class=\"sortcell\">3110</td><td>7.9</td><td>81</td><td>21</td><td>8</td><td>25</td><td>147.0</td></tr>,\n",
       " <tr align=\"right\" class=\"oddrow player-23-516347\"><td align=\"left\">31</td><td align=\"left\"><a href=\"http://www.espn.com/college-football/player/_/id/516347/marquise-williams\">Marquise Williams</a>, QB</td><td align=\"left\"><span title=\"North Carolina\">UNC</span></td><td>219</td><td>357</td><td>61.3</td><td class=\"sortcell\">3072</td><td>8.6</td><td>89</td><td>24</td><td>10</td><td>15</td><td>150.2</td></tr>,\n",
       " <tr align=\"right\" class=\"evenrow player-23-533270\"><td align=\"left\">32</td><td align=\"left\"><a href=\"http://www.espn.com/college-football/player/_/id/533270/tommy-armstrong-jr.\">Tommy Armstrong Jr.</a>, QB</td><td align=\"left\"><span title=\"Nebraska\">NEB</span></td><td>222</td><td>402</td><td>55.2</td><td class=\"sortcell\">3030</td><td>7.5</td><td>55</td><td>22</td><td>16</td><td>12</td><td>128.6</td></tr>,\n",
       " <tr align=\"right\" class=\"oddrow player-23-518380\"><td align=\"left\">33</td><td align=\"left\"><a href=\"http://www.espn.com/college-football/player/_/id/518380/jake-rudock\">Jake Rudock</a>, QB</td><td align=\"left\"><span title=\"Michigan\">MICH</span></td><td>249</td><td>389</td><td>64.0</td><td class=\"sortcell\">3017</td><td>7.8</td><td>64</td><td>20</td><td>9</td><td>17</td><td>141.5</td></tr>,\n",
       " <tr align=\"right\" class=\"evenrow player-23-553235\"><td align=\"left\">34</td><td align=\"left\"><a href=\"http://www.espn.com/college-football/player/_/id/553235/matt-linehan\">Matt Linehan</a>, QB</td><td align=\"left\"><span title=\"Idaho\">IDHO</span></td><td>248</td><td>391</td><td>63.4</td><td class=\"sortcell\">2989</td><td>7.6</td><td>71</td><td>16</td><td>11</td><td>24</td><td>135.5</td></tr>,\n",
       " <tr align=\"right\" class=\"oddrow player-23-549759\"><td align=\"left\">35</td><td align=\"left\"><a href=\"http://www.espn.com/college-football/player/_/id/549759/phillip-walker\">Phillip Walker</a>, QB</td><td align=\"left\"><span title=\"Temple\">TEM</span></td><td>246</td><td>433</td><td>56.8</td><td class=\"sortcell\">2973</td><td>6.9</td><td>75</td><td>19</td><td>8</td><td>18</td><td>125.3</td></tr>,\n",
       " <tr align=\"right\" class=\"evenrow player-23-513614\"><td align=\"left\">36</td><td align=\"left\"><a href=\"http://www.espn.com/college-football/player/_/id/513614/joe-licata\">Joe Licata</a>, QB</td><td align=\"left\"><span title=\"Buffalo\">BUFF</span></td><td>280</td><td>449</td><td>62.4</td><td class=\"sortcell\">2969</td><td>6.6</td><td>78</td><td>16</td><td>15</td><td>16</td><td>123.0</td></tr>,\n",
       " <tr align=\"right\" class=\"oddrow player-23-515906\"><td align=\"left\">37</td><td align=\"left\"><a href=\"http://www.espn.com/college-football/player/_/id/515906/phillip-ely\">Phillip Ely</a>, QB</td><td align=\"left\"><span title=\"Toledo\">TOL</span></td><td>226</td><td>403</td><td>56.1</td><td class=\"sortcell\">2965</td><td>7.4</td><td>88</td><td>23</td><td>10</td><td>4</td><td>131.7</td></tr>,\n",
       " <tr align=\"right\" class=\"evenrow player-23-3886812\"><td align=\"left\">38</td><td align=\"left\"><a href=\"http://www.espn.com/college-football/player/_/id/3886812/jake-browning\">Jake Browning</a>, QB</td><td align=\"left\"><span title=\"Washington\">WASH</span></td><td>233</td><td>368</td><td>63.3</td><td class=\"sortcell\">2955</td><td>8.0</td><td>81</td><td>16</td><td>10</td><td>30</td><td>139.7</td></tr>,\n",
       " <tr align=\"right\" class=\"oddrow player-23-518271\"><td align=\"left\">39</td><td align=\"left\"><a href=\"http://www.espn.com/college-football/player/_/id/518271/blake-frohnapfel\">Blake Frohnapfel</a>, QB</td><td align=\"left\"><span title=\"Massachusetts\">UMASS</span></td><td>266</td><td>472</td><td>56.4</td><td class=\"sortcell\">2919</td><td>6.2</td><td>62</td><td>16</td><td>13</td><td>26</td><td>114.0</td></tr>,\n",
       " <tr align=\"right\" class=\"evenrow player-23-3129302\"><td align=\"left\">40</td><td align=\"left\"><a href=\"http://www.espn.com/college-football/player/_/id/3129302/deshone-kizer\">DeShone Kizer</a>, QB</td><td align=\"left\"><span title=\"Notre Dame\">ND</span></td><td>211</td><td>335</td><td>63.0</td><td class=\"sortcell\">2884</td><td>8.6</td><td>81</td><td>21</td><td>10</td><td>23</td><td>150.0</td></tr>]"
      ]
     },
     "execution_count": 5,
     "metadata": {},
     "output_type": "execute_result"
    }
   ],
   "source": [
    "bs_obj.findAll('tr',{'class':re.compile('^(evenrow|oddrow)')})"
   ]
  },
  {
   "cell_type": "code",
   "execution_count": 8,
   "metadata": {
    "collapsed": false
   },
   "outputs": [
    {
     "name": "stdout",
     "output_type": "stream",
     "text": [
      "Western Kentucky\n",
      "Bowling Green\n",
      "California\n",
      "Texas Tech\n",
      "Washington State\n",
      "Southern Mississippi\n",
      "Georgia State\n",
      "Tulsa\n",
      "Clemson\n",
      "Ole Miss\n",
      "Louisiana Tech\n",
      "Middle Tennessee\n",
      "Arizona State\n",
      "Central Michigan\n",
      "Mississippi State\n",
      "Memphis\n",
      "Oklahoma State\n",
      "Oklahoma\n",
      "UCLA\n",
      "TCU\n",
      "Indiana\n",
      "USC\n",
      "Western Michigan\n",
      "Arkansas\n",
      "BYU\n",
      "Boise State\n",
      "Miami\n",
      "West Virginia\n",
      "Michigan State\n",
      "Alabama\n",
      "North Carolina\n",
      "Nebraska\n",
      "Michigan\n",
      "Idaho\n",
      "Temple\n",
      "Buffalo\n",
      "Toledo\n",
      "Washington\n",
      "Massachusetts\n",
      "Notre Dame\n"
     ]
    }
   ],
   "source": [
    "for obj in bs_obj.findAll('tr',{'class':re.compile('^(evenrow|oddrow)')}):\n",
    "    print obj.find('span')['title']"
   ]
  },
  {
   "cell_type": "markdown",
   "metadata": {},
   "source": [
    "## Spidering"
   ]
  },
  {
   "cell_type": "code",
   "execution_count": null,
   "metadata": {
    "collapsed": false
   },
   "outputs": [],
   "source": [
    "for obj in bs_obj.findAll('tr',{'class':re.compile('^(evenrow|oddrow)')}):\n",
    "    html = requests.get(obj.find('a')['href'])\n",
    "    bs_obj2 = BeautifulSoup(html.text, 'html.parser')\n",
    "    name = bs_obj2.h1.get_text()\n",
    "    born = bs_obj2.find('ul',{'class':'player-metadata'}).findAll('li')[0].get_text()\n",
    "    if born[0] == 'B':\n",
    "        print '{} Born: {}'.format(name,born[4:])"
   ]
  },
  {
   "cell_type": "markdown",
   "metadata": {},
   "source": [
    "# Basic Authentication"
   ]
  },
  {
   "cell_type": "code",
   "execution_count": null,
   "metadata": {
    "collapsed": false
   },
   "outputs": [],
   "source": [
    "import requests\n",
    "z = requests.get('http://galvanizesf.roomzilla.net')\n",
    "z"
   ]
  },
  {
   "cell_type": "code",
   "execution_count": null,
   "metadata": {
    "collapsed": true
   },
   "outputs": [],
   "source": [
    "import requests\n",
    "z = requests.get('http://galvanizesf.roomzilla.net', auth=('', 'gVIP543'))\n",
    "z"
   ]
  },
  {
   "cell_type": "code",
   "execution_count": null,
   "metadata": {
    "collapsed": true
   },
   "outputs": [],
   "source": [
    "HTML(z.content)"
   ]
  },
  {
   "cell_type": "markdown",
   "metadata": {},
   "source": [
    "Sometimes they hide the info from us, but we can find it being sneaky...\n",
    "http://m.mlb.com/scoreboard#date=11/1/2016"
   ]
  },
  {
   "cell_type": "markdown",
   "metadata": {},
   "source": [
    "As you go through a web site you should build up a dictionary for the documents that you want to store in Mongo. In the example above we may, for each post url, create a dictionary with the information:\n",
    "```python\n",
    "    { url: url_of_event,\n",
    "      date: date_event,\n",
    "      cost: cost_of_event }\n",
    "```\n",
    "\n",
    "We can then insert these dictionaries into a Mongo database via PyMongo, which we will learn about next."
   ]
  },
  {
   "cell_type": "markdown",
   "metadata": {},
   "source": [
    "# Scraping from an Existing API\n",
    "\n",
    "Let's take a look at the API for all the publically avaliable policing data in the [UK](https://data.police.uk/docs/). After taking a look at the documentation for the interface, let's experiment with what we get when we issue a request to this API. The process looks remarkable similar to the one we went through for scraping a web page, except this time the response we're looking for is avaliable via the `json()` method."
   ]
  },
  {
   "cell_type": "code",
   "execution_count": 9,
   "metadata": {
    "collapsed": false
   },
   "outputs": [
    {
     "data": {
      "text/plain": [
       "[{u'category': u'anti-social-behaviour',\n",
       "  u'context': u'',\n",
       "  u'id': 20604029,\n",
       "  u'location': {u'latitude': u'52.633007',\n",
       "   u'longitude': u'-1.132839',\n",
       "   u'street': {u'id': 883386, u'name': u'On or near Bowling Green Street'}},\n",
       "  u'location_subtype': u'',\n",
       "  u'location_type': u'Force',\n",
       "  u'month': u'2013-01',\n",
       "  u'outcome_status': None,\n",
       "  u'persistent_id': u''},\n",
       " {u'category': u'anti-social-behaviour',\n",
       "  u'context': u'',\n",
       "  u'id': 20608223,\n",
       "  u'location': {u'latitude': u'52.631684',\n",
       "   u'longitude': u'-1.144951',\n",
       "   u'street': {u'id': 883471, u'name': u'On or near Thorpe Street'}},\n",
       "  u'location_subtype': u'',\n",
       "  u'location_type': u'Force',\n",
       "  u'month': u'2013-01',\n",
       "  u'outcome_status': None,\n",
       "  u'persistent_id': u''}]"
      ]
     },
     "execution_count": 9,
     "metadata": {},
     "output_type": "execute_result"
    }
   ],
   "source": [
    "r = requests.get('https://data.police.uk/api/crimes-street/all-crime?lat=52.629729&lng=-1.131592&date=2013-01')\n",
    "r.json()[:2]"
   ]
  },
  {
   "cell_type": "markdown",
   "metadata": {},
   "source": [
    "## API Scraping and Mongo\n",
    "\n",
    "Many APIs will give you a choice of how it will return data to you, choosing json will make life easier since we will frequently be using Mongo for our storage unit during our scraping endeavors, and it plays very well with json. \n",
    "\n",
    "Interacting with Mongo from Python is done with the other Mongo client that we talked about earlier PyMongo. It is designed to have a similar interface as the Mongo shell does, this ends up being fairly intuitive since both Python and JavaScript are object oriented languages, and therefore store and refer to things in a similar manner."
   ]
  },
  {
   "cell_type": "code",
   "execution_count": 10,
   "metadata": {
    "collapsed": true
   },
   "outputs": [],
   "source": [
    "from pymongo import MongoClient\n",
    "\n",
    "client = MongoClient()\n",
    "db = client.uk_police\n",
    "collection = db.all_crime"
   ]
  },
  {
   "cell_type": "code",
   "execution_count": 11,
   "metadata": {
    "collapsed": true
   },
   "outputs": [],
   "source": [
    "other_request = requests.get('https://data.police.uk/api/crimes-no-location?category=all-crime&force=warwickshire&date=2013-09')"
   ]
  },
  {
   "cell_type": "code",
   "execution_count": 12,
   "metadata": {
    "collapsed": false
   },
   "outputs": [
    {
     "data": {
      "text/plain": [
       "[{u'category': u'burglary',\n",
       "  u'context': u'',\n",
       "  u'id': 26993975,\n",
       "  u'location': None,\n",
       "  u'location_subtype': u'',\n",
       "  u'location_type': None,\n",
       "  u'month': u'2013-09',\n",
       "  u'outcome_status': {u'category': u'Investigation complete; no suspect identified',\n",
       "   u'date': u'2013-10'},\n",
       "  u'persistent_id': u'601d1a058fb87207bfea500802ad9043fc9629fae479d0a9c3d2abd5b1bbe14d'},\n",
       " {u'category': u'burglary',\n",
       "  u'context': u'',\n",
       "  u'id': 26994099,\n",
       "  u'location': None,\n",
       "  u'location_subtype': u'',\n",
       "  u'location_type': None,\n",
       "  u'month': u'2013-09',\n",
       "  u'outcome_status': {u'category': u'Investigation complete; no suspect identified',\n",
       "   u'date': u'2013-10'},\n",
       "  u'persistent_id': u'34990376c7cb84ede03c06f3dda76cda7fd63cdaa9f2179213d9aa2d53b9d9e6'}]"
      ]
     },
     "execution_count": 12,
     "metadata": {},
     "output_type": "execute_result"
    }
   ],
   "source": [
    "other_request.json()[:2]"
   ]
  },
  {
   "cell_type": "code",
   "execution_count": null,
   "metadata": {
    "collapsed": true
   },
   "outputs": [],
   "source": [
    "# Possible way to grab data for range of months and years\n",
    "for year in range(2001, 2016):\n",
    "    for month in range(1, 13):\n",
    "        r = requests.get('https://data.police.uk/api/crimes-no-location?category=all-crime&force=warwickshire&date={}-{}'.format(year, month))\n",
    "        collection.insert_many(r.json())"
   ]
  },
  {
   "cell_type": "code",
   "execution_count": null,
   "metadata": {
    "collapsed": true
   },
   "outputs": [],
   "source": [
    "collection.insert_many(other_request.json())"
   ]
  },
  {
   "cell_type": "code",
   "execution_count": null,
   "metadata": {
    "collapsed": true
   },
   "outputs": [],
   "source": [
    "import pprint as pp\n",
    "for item in collection.find({ 'category' : 'public-order' }):\n",
    "    pp.pprint(item)"
   ]
  },
  {
   "cell_type": "code",
   "execution_count": null,
   "metadata": {
    "collapsed": true
   },
   "outputs": [],
   "source": [
    "# Remember to close the connection\n",
    "client.close()"
   ]
  },
  {
   "cell_type": "markdown",
   "metadata": {},
   "source": [
    "# Wikipedia API"
   ]
  },
  {
   "cell_type": "code",
   "execution_count": null,
   "metadata": {
    "collapsed": true
   },
   "outputs": [],
   "source": [
    "# import the Requests HTTP library\n",
    "import requests\n",
    "import json\n",
    "import re\n",
    "\n",
    "# A User agent header required for the Wikipedia API.\n",
    "headers = {'user_agent': 'Web_Scraping/1.1 (darren.reger@galvanize.com; dsi example exercise)'}"
   ]
  },
  {
   "cell_type": "code",
   "execution_count": null,
   "metadata": {
    "collapsed": true
   },
   "outputs": [],
   "source": [
    "# Experiment with fetching one or two pages and examining the result (fill in URL and payload)\n",
    "url = 'https://en.wikipedia.org/w/api.php'\n",
    "\n",
    "# parameters for the API request\n",
    "payload = { 'action' : 'parse' , 'format' : 'json','page' : 'Kevin Bacon' }\n",
    "\n",
    "# make the request\n",
    "r = requests.post(url, data=payload, headers=headers)\n",
    "\n",
    "# print out the result of the request as JSON\n",
    "print r.json()['parse']\n",
    "\n",
    "# this is the same as going to https://en.wikipedia.org/w/api.php?action=parse&format=json&page=Kevin%20Bacon"
   ]
  },
  {
   "cell_type": "code",
   "execution_count": null,
   "metadata": {
    "collapsed": false
   },
   "outputs": [],
   "source": [
    "print r.text"
   ]
  },
  {
   "cell_type": "markdown",
   "metadata": {},
   "source": [
    "# Downloading an image or file\n",
    "We use urlretrieve"
   ]
  },
  {
   "cell_type": "code",
   "execution_count": null,
   "metadata": {
    "collapsed": false
   },
   "outputs": [],
   "source": [
    "from urllib import urlretrieve"
   ]
  },
  {
   "cell_type": "code",
   "execution_count": null,
   "metadata": {
    "collapsed": false
   },
   "outputs": [],
   "source": [
    "urlretrieve('https://images.craigslist.org/00Y0Y_kho6IzfhxVn_600x450.jpg', filename='cltest.jpg')"
   ]
  },
  {
   "cell_type": "code",
   "execution_count": null,
   "metadata": {
    "collapsed": true
   },
   "outputs": [],
   "source": []
  },
  {
   "cell_type": "code",
   "execution_count": null,
   "metadata": {
    "collapsed": true
   },
   "outputs": [],
   "source": []
  },
  {
   "cell_type": "code",
   "execution_count": null,
   "metadata": {
    "collapsed": true
   },
   "outputs": [],
   "source": []
  },
  {
   "cell_type": "code",
   "execution_count": null,
   "metadata": {
    "collapsed": true
   },
   "outputs": [],
   "source": []
  },
  {
   "cell_type": "code",
   "execution_count": null,
   "metadata": {
    "collapsed": true
   },
   "outputs": [],
   "source": []
  },
  {
   "cell_type": "code",
   "execution_count": null,
   "metadata": {
    "collapsed": true
   },
   "outputs": [],
   "source": []
  },
  {
   "cell_type": "markdown",
   "metadata": {},
   "source": [
    "## Leftover from Cary's Lecture in case the ESPN live demo goes poorly"
   ]
  },
  {
   "cell_type": "code",
   "execution_count": null,
   "metadata": {
    "collapsed": true
   },
   "outputs": [],
   "source": [
    "from bs4 import BeautifulSoup\n",
    "soup = BeautifulSoup(r.text, 'html.parser')"
   ]
  },
  {
   "cell_type": "code",
   "execution_count": null,
   "metadata": {
    "collapsed": true
   },
   "outputs": [],
   "source": [
    "soup.find_all('a', rel=True)[:10]"
   ]
  },
  {
   "cell_type": "code",
   "execution_count": null,
   "metadata": {
    "collapsed": true
   },
   "outputs": [],
   "source": [
    "soup.select('h2.title')"
   ]
  },
  {
   "cell_type": "code",
   "execution_count": null,
   "metadata": {
    "collapsed": true
   },
   "outputs": [],
   "source": [
    "title = soup.find_all('h2', class_='title')[0]"
   ]
  },
  {
   "cell_type": "code",
   "execution_count": null,
   "metadata": {
    "collapsed": true
   },
   "outputs": [],
   "source": [
    "good_clear_float = title.next_sibling.next_sibling"
   ]
  },
  {
   "cell_type": "code",
   "execution_count": null,
   "metadata": {
    "collapsed": true
   },
   "outputs": [],
   "source": [
    "urls = []\n",
    "for tag in good_clear_float.find_all('a', rel=True):\n",
    "    urls.append(tag.attrs['href'])"
   ]
  },
  {
   "cell_type": "code",
   "execution_count": null,
   "metadata": {
    "collapsed": true
   },
   "outputs": [],
   "source": [
    "urls"
   ]
  }
 ],
 "metadata": {
  "anaconda-cloud": {},
  "kernelspec": {
   "display_name": "Python [conda root]",
   "language": "python",
   "name": "conda-root-py"
  },
  "language_info": {
   "codemirror_mode": {
    "name": "ipython",
    "version": 2
   },
   "file_extension": ".py",
   "mimetype": "text/x-python",
   "name": "python",
   "nbconvert_exporter": "python",
   "pygments_lexer": "ipython2",
   "version": "2.7.12"
  }
 },
 "nbformat": 4,
 "nbformat_minor": 0
}
