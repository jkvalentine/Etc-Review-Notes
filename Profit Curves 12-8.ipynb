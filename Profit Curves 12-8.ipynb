{
 "cells": [
  {
   "cell_type": "markdown",
   "metadata": {},
   "source": [
    "## Make The Confusion Matrix into a Profit Matrix\n",
    "* Calculate our expected profit assigning  weights to each probability of positive and negative\n",
    "\n",
    "* Go through the probabilities just like making an ROC curve. Plot!\n",
    "\n",
    "* Think of the x-axis as the percent predicted as positive\n",
    "\n",
    "## Undersampling\n",
    "* Randomly discard majority of class obervations to achieve balance\n",
    "\n",
    "#### Pros\n",
    "* Makes calculations way faster\n",
    "#### Cons\n",
    "* Throws out data! Could be important, expensive to collect\n",
    "\n",
    "## Oversampling\n",
    "* Replicates minority observations, exact data points repeated\n",
    "\n",
    "#### Pros\n",
    "* Don't discard data (valuable!)\n",
    "\n",
    "#### Cons\n",
    "* Overfitting is very likely, giving more weight to data, assuming it is good data\n",
    "\n",
    "## SMOTE (Synthetic Minority Over-sampling Technique)\n",
    "* Generate synthetic minority class observations\n",
    "\n",
    "* ONLY sample minority data\n",
    "\n",
    "## How do we pick?\n",
    "\n",
    "* Each choice gives us a different ROC/Profit curve\n",
    "* Compare the ROC/Profit curve"
   ]
  }
 ],
 "metadata": {
  "kernelspec": {
   "display_name": "Python [default]",
   "language": "python",
   "name": "python2"
  },
  "language_info": {
   "codemirror_mode": {
    "name": "ipython",
    "version": 2
   },
   "file_extension": ".py",
   "mimetype": "text/x-python",
   "name": "python",
   "nbconvert_exporter": "python",
   "pygments_lexer": "ipython2",
   "version": "2.7.12"
  }
 },
 "nbformat": 4,
 "nbformat_minor": 0
}
