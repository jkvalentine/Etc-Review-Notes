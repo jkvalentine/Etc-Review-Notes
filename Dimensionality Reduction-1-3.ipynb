{
 "cells": [
  {
   "cell_type": "markdown",
   "metadata": {},
   "source": [
    "## Dimensionality Reduction\n",
    "* dimension = feature = predictor\n",
    "* dimensionality = number of features= number of predictors\n",
    "##### High Dimensional Data Causes Problems\n",
    "* Curse of Dimensionality\n",
    "* Visualization- hard to visualize more than 2\n",
    "* Latent Features\n",
    "* Often most relevant  features not explicitly present in high dimensional raw data\n",
    "* Remove correlation\n",
    "\n",
    "### Principal Component Analysis\n",
    "* Be careful when you use this! it can spit out garbage\n",
    "* Doesn't require labeled data\n",
    "* First goal is to remove correlation between features\n",
    "* Doesn't reduce dimensionality on its own\n",
    "* We find out which ones have the highest variance: *assume* that highest variance means most important\n",
    "##### Steps\n",
    "    * Create the centered design matrix\n",
    "    * Compute the covariance matrix\n",
    "    * The princicipal components are the eigenvectors of the covariance matrix\n",
    "#### When to use PCA\n",
    "* kNN on high dimensional data\n",
    "* Clustering high dimensional data\n",
    "* Visualizationg (like embeddings)\n",
    "* Working with images (would it work well to feed an image into a decision tree?)\n"
   ]
  },
  {
   "cell_type": "markdown",
   "metadata": {},
   "source": [
    "### Singular Value Decomposition\n",
    "* "
   ]
  },
  {
   "cell_type": "code",
   "execution_count": null,
   "metadata": {
    "collapsed": true
   },
   "outputs": [],
   "source": []
  }
 ],
 "metadata": {
  "anaconda-cloud": {},
  "kernelspec": {
   "display_name": "Python [default]",
   "language": "python",
   "name": "python2"
  },
  "language_info": {
   "codemirror_mode": {
    "name": "ipython",
    "version": 2
   },
   "file_extension": ".py",
   "mimetype": "text/x-python",
   "name": "python",
   "nbconvert_exporter": "python",
   "pygments_lexer": "ipython2",
   "version": "2.7.12"
  }
 },
 "nbformat": 4,
 "nbformat_minor": 0
}
