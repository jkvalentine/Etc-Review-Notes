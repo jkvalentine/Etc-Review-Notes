{
 "cells": [
  {
   "cell_type": "markdown",
   "metadata": {},
   "source": [
    "Multi-Arm Bandit"
   ]
  },
  {
   "cell_type": "markdown",
   "metadata": {},
   "source": [
    "* exploitation vs. exploration\n",
    "    * start in pure exploration\n",
    "    * switch to exploitation\n",
    "    * how can we minimize our losses in the exploration phase?\n",
    "    * regret is GREAT when trying to test theoretical properties of solutions to Multi-Arm Bandit problem, kinda useless in real life because we don't really ever know optimum payouts and can't really measure regret (tracking how many times you made the wrong choice)\n",
    "* Epislon Greedy\n",
    "    * epsilon is how many times you explore\n",
    "    * explore with a fixed probability (epsilon), often 10% or less\n",
    "* UCB1\n",
    "    * can mathematcially prove an upper bound on the amount of revenue it generates\n",
    "* Softmax\n",
    "    * Boltzmann Distribution!\n",
    "    * Choose the bandit random in proportion to its estimated value\n",
    "    * Whether this is a god strategy depends on value you set for Tau\n",
    "* Bayesian Bandit\n",
    "    * Model each distrubution as a bandit, sample each bandit and play the bandit with the highest value\n",
    "* CAVEAT\n",
    "    * \n"
   ]
  },
  {
   "cell_type": "code",
   "execution_count": null,
   "metadata": {
    "collapsed": true
   },
   "outputs": [],
   "source": []
  }
 ],
 "metadata": {
  "anaconda-cloud": {},
  "kernelspec": {
   "display_name": "Python [default]",
   "language": "python",
   "name": "python2"
  },
  "language_info": {
   "codemirror_mode": {
    "name": "ipython",
    "version": 2
   },
   "file_extension": ".py",
   "mimetype": "text/x-python",
   "name": "python",
   "nbconvert_exporter": "python",
   "pygments_lexer": "ipython2",
   "version": "2.7.12"
  }
 },
 "nbformat": 4,
 "nbformat_minor": 0
}
