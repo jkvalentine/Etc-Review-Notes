{
 "cells": [
  {
   "cell_type": "markdown",
   "metadata": {},
   "source": [
    "## Amazon Web Services\n",
    "### Core Services\n",
    "* Elastic Compute Cloud (EC2): computers in the cloud\n",
    "* Elastic Block Store (EBS): virtual hard drives for those EC2 machines\n",
    "* Simple Storage Solution (S3): long-term large scale data storage\n",
    "* Don't forget your secret ketys! Needed to do anything using your secret keys\n",
    "* Jack Beneto (sp?) has notes for ssh configuration\n",
    "* tmux is super great\n",
    "* Generally need about 4 times as much RAM as your dataset"
   ]
  },
  {
   "cell_type": "markdown",
   "metadata": {},
   "source": [
    "### High Performance Python\n",
    "* "
   ]
  }
 ],
 "metadata": {
  "anaconda-cloud": {},
  "kernelspec": {
   "display_name": "Python [default]",
   "language": "python",
   "name": "python2"
  },
  "language_info": {
   "codemirror_mode": {
    "name": "ipython",
    "version": 2
   },
   "file_extension": ".py",
   "mimetype": "text/x-python",
   "name": "python",
   "nbconvert_exporter": "python",
   "pygments_lexer": "ipython2",
   "version": "2.7.12"
  }
 },
 "nbformat": 4,
 "nbformat_minor": 0
}
