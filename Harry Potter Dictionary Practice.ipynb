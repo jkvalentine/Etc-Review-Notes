{
 "cells": [
  {
   "cell_type": "code",
   "execution_count": 1,
   "metadata": {
    "collapsed": true
   },
   "outputs": [],
   "source": [
    "from collections import Counter\n",
    "import string"
   ]
  },
  {
   "cell_type": "code",
   "execution_count": 24,
   "metadata": {
    "collapsed": false
   },
   "outputs": [],
   "source": [
    "with open('harry_potter_1.txt') as f:\n",
    "    lines = f.read().splitlines()\n",
    "    no_lines = ' '.join(lines).lower()\n",
    "    words = no_lines.translate(None, string.punctuation).split(' ')\n",
    "    no_spaces = [word for word in words if word != '']\n",
    "    "
   ]
  },
  {
   "cell_type": "code",
   "execution_count": 33,
   "metadata": {
    "collapsed": false
   },
   "outputs": [],
   "source": [
    "d = {word: no_spaces.count(word) for word in no_spaces}"
   ]
  },
  {
   "cell_type": "code",
   "execution_count": null,
   "metadata": {
    "collapsed": false
   },
   "outputs": [],
   "source": [
    "def merge_dictionaries(d1, d2):\n",
    "    '''\n",
    "    INPUT: dictionary, dictionary\n",
    "    OUTPUT: dictionary\n",
    "    Return a new dictionary which contains all the keys from d1 and d2 with\n",
    "    their associated values. If a key is in both dictionaries, the value should\n",
    "    be the sum of the two values.\n",
    "    '''\n",
    "    new_dict = {}\n",
    "    pass"
   ]
  },
  {
   "cell_type": "code",
   "execution_count": 1,
   "metadata": {
    "collapsed": false
   },
   "outputs": [],
   "source": [
    "d1 = {'cat':2, 'dog':3, 'rat':4}\n",
    "d2 = {'bat':1, 'dog':5, 'rabbit':7, 'cat':3}\n",
    "new_dict = {}"
   ]
  },
  {
   "cell_type": "code",
   "execution_count": 2,
   "metadata": {
    "collapsed": false
   },
   "outputs": [
    {
     "data": {
      "text/plain": [
       "([('rat', 4), ('dog', 3), ('cat', 2)],\n",
       " [('bat', 1), ('dog', 5), ('rabbit', 7), ('cat', 3)])"
      ]
     },
     "execution_count": 2,
     "metadata": {},
     "output_type": "execute_result"
    }
   ],
   "source": [
    "d1.items(), d2.items()"
   ]
  },
  {
   "cell_type": "code",
   "execution_count": 3,
   "metadata": {
    "collapsed": false
   },
   "outputs": [],
   "source": [
    "for k1, v1 in d1.items():\n",
    "    for k2, v2 in d2.items():\n",
    "        if k1 == k2:\n",
    "            new_dict[k1] = v1 + v2\n",
    "        else:\n",
    "            new_dict[k1] = v1\n",
    "            new_dict[k2] = v2"
   ]
  },
  {
   "cell_type": "code",
   "execution_count": 4,
   "metadata": {
    "collapsed": false
   },
   "outputs": [
    {
     "data": {
      "text/plain": [
       "{'bat': 1, 'cat': 5, 'dog': 5, 'rabbit': 7, 'rat': 4}"
      ]
     },
     "execution_count": 4,
     "metadata": {},
     "output_type": "execute_result"
    }
   ],
   "source": [
    "new_dict"
   ]
  },
  {
   "cell_type": "code",
   "execution_count": null,
   "metadata": {
    "collapsed": true
   },
   "outputs": [],
   "source": [
    "def make_char_dict(filename):\n",
    "    '''\n",
    "    INPUT: string\n",
    "    OUTPUT: dictionary (string => list)\n",
    "    Given a file containing rows of text, create a dictionary whose keys\n",
    "    are single characters. The value associated with each key is a list of all\n",
    "    the line numbers which start with that letter. The first line should have\n",
    "    line number 1.  Characters which never are the first letter of a line do\n",
    "    not need to be included in your dictionary.\n",
    "    '''\n",
    "    pass"
   ]
  },
  {
   "cell_type": "code",
   "execution_count": 99,
   "metadata": {
    "collapsed": false
   },
   "outputs": [],
   "source": []
  },
  {
   "cell_type": "code",
   "execution_count": 1,
   "metadata": {
    "collapsed": false
   },
   "outputs": [
    {
     "ename": "NameError",
     "evalue": "name 'lines' is not defined",
     "output_type": "error",
     "traceback": [
      "\u001b[0;31m---------------------------------------------------------------------------\u001b[0m",
      "\u001b[0;31mNameError\u001b[0m                                 Traceback (most recent call last)",
      "\u001b[0;32m<ipython-input-1-3fb162a4fe05>\u001b[0m in \u001b[0;36m<module>\u001b[0;34m()\u001b[0m\n\u001b[0;32m----> 1\u001b[0;31m \u001b[0mlines\u001b[0m\u001b[0;34m\u001b[0m\u001b[0m\n\u001b[0m",
      "\u001b[0;31mNameError\u001b[0m: name 'lines' is not defined"
     ]
    }
   ],
   "source": [
    "lines"
   ]
  },
  {
   "cell_type": "code",
   "execution_count": 2,
   "metadata": {
    "collapsed": false
   },
   "outputs": [],
   "source": [
    "with open('string.txt') as t:\n",
    "    lines = t.readlines()\n",
    "char_dict = {}\n",
    "for line in lines:\n",
    "    if line[0] in char_dict:\n",
    "        char_dict[line[0]].append(lines.index(line)+1)\n",
    "    else:\n",
    "        char_dict[line[0]] = [lines.index(line)+1]"
   ]
  },
  {
   "cell_type": "code",
   "execution_count": 3,
   "metadata": {
    "collapsed": false
   },
   "outputs": [
    {
     "data": {
      "text/plain": [
       "{'C': [2],\n",
       " 'D': [5, 6],\n",
       " 'F': [12],\n",
       " 'I': [1, 7, 8, 9],\n",
       " 'M': [11],\n",
       " 'P': [4, 10],\n",
       " 'W': [3]}"
      ]
     },
     "execution_count": 3,
     "metadata": {},
     "output_type": "execute_result"
    }
   ],
   "source": [
    "char_dict"
   ]
  },
  {
   "cell_type": "code",
   "execution_count": null,
   "metadata": {
    "collapsed": true
   },
   "outputs": [],
   "source": []
  },
  {
   "cell_type": "code",
   "execution_count": null,
   "metadata": {
    "collapsed": true
   },
   "outputs": [],
   "source": []
  }
 ],
 "metadata": {
  "anaconda-cloud": {},
  "kernelspec": {
   "display_name": "Python [default]",
   "language": "python",
   "name": "python2"
  },
  "language_info": {
   "codemirror_mode": {
    "name": "ipython",
    "version": 2
   },
   "file_extension": ".py",
   "mimetype": "text/x-python",
   "name": "python",
   "nbconvert_exporter": "python",
   "pygments_lexer": "ipython2",
   "version": "2.7.12"
  }
 },
 "nbformat": 4,
 "nbformat_minor": 0
}
