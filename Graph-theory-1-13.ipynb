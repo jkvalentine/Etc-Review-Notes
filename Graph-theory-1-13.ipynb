{
 "cells": [
  {
   "cell_type": "markdown",
   "metadata": {},
   "source": [
    "## Graphs\n",
    "* Not plots\n",
    "* Data points are nodes/vertices in the graph, connections between are edges\n",
    "* Represents relationships between things\n",
    "* Types\n",
    "    * Directed graphs, edges represent one-way relationships\n",
    "    * Weighted graphs, edges have a number (usually of cost) associated with them\n",
    "* Neighbors of a node deirectly connect to it\n",
    "* DEgree of a node is the number of nieghbors of a node\n",
    "* Directed graphs have an in-degree (incoming edges) and out-degree (outgoing edges)\n",
    "* Path is a series of unique nodes and edges connecting two nodes\n",
    "* Connected: a graph with a path from every node to every other one\n",
    "* Complete: edge from each node to each other node\n",
    "### Graphs in a computer\n",
    "* Edge list\n",
    "* Adjacency list\n",
    "* Adjacency matrix\n",
    "#### Breadth First Algorithm\n",
    "* Always look at closest nodes first\n",
    "* Q could contain sooo many neighbors\n",
    "* BFS is memory intensives\n",
    "#### Depth First Search\n",
    "* "
   ]
  },
  {
   "cell_type": "markdown",
   "metadata": {},
   "source": [
    "## How Important is a Given Node\n",
    "#### Centrality Measures\n",
    "* Degree\n",
    "    * Number of connections each node has\n",
    "    * Normalize: divide by number of nodes\n",
    "* Betweenness\n",
    "    * Total number of paths\n",
    "    * \n",
    "* Eigenvector\n",
    "    * Which eigenvector?\n",
    "    * \n",
    "#### What are communities?\n",
    "* Mutual ties: within the group know each other\n",
    "* Compactness: reach other members in few steps\n",
    "* Dense edges: high frequency of edges within groups\n",
    "* Separation from other groups: fewquency within groups higher than out of group\n",
    "#### How do we find them?\n",
    "* Modularity\n",
    "    * How likely the group structure seen was due to random chance\n",
    "* Hierarchical\n"
   ]
  },
  {
   "cell_type": "code",
   "execution_count": null,
   "metadata": {
    "collapsed": true
   },
   "outputs": [],
   "source": []
  }
 ],
 "metadata": {
  "anaconda-cloud": {},
  "kernelspec": {
   "display_name": "Python [default]",
   "language": "python",
   "name": "python2"
  },
  "language_info": {
   "codemirror_mode": {
    "name": "ipython",
    "version": 2
   },
   "file_extension": ".py",
   "mimetype": "text/x-python",
   "name": "python",
   "nbconvert_exporter": "python",
   "pygments_lexer": "ipython2",
   "version": "2.7.12"
  }
 },
 "nbformat": 4,
 "nbformat_minor": 0
}
