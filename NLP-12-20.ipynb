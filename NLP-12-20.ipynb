{
 "cells": [
  {
   "cell_type": "markdown",
   "metadata": {},
   "source": [
    "## NLP\n",
    "* Stemming, Lemmatization\n",
    "    * Multiple words map to one word\n",
    "        * Stemming- chop off part of word\n",
    "        * Lemmatization - the core, heart, middle of word\n",
    "* Count Vectorization: Get ride of punctuation, stopwords, and make words that express the same meaning, VECTORIZE \n",
    "* Term Frequency = #times word in document/ # words in document\n",
    "* Document frequency = # documents containing word/ total # documents\n",
    "* Inverse docuent frequency: log(# documents / # documents containing word)"
   ]
  },
  {
   "cell_type": "markdown",
   "metadata": {},
   "source": [
    "## Naive Bayes\n",
    "* Laplace Smoothing\n",
    "    * Pretend like we've seen everything one, even if we haven't seen it (youtube video)\n",
    "* Update the counts as you go!\n",
    "* Pros\n",
    "    * good with wide data (p >> n)\n",
    "        * good if n is small or quite large\n",
    "    * fast to train\n",
    "    * Good at online learning, streaming data\n",
    "    * Simple to implement, not necessarily memory-bound (DB implementations)\n",
    "    * Multi-class\n",
    "* Cons\n",
    "    * Naive assumption means correlated features aren't actually treated right\n",
    "    * Sometimes outperformed by other models\n",
    "   "
   ]
  },
  {
   "cell_type": "markdown",
   "metadata": {},
   "source": [
    "## "
   ]
  }
 ],
 "metadata": {
  "anaconda-cloud": {},
  "kernelspec": {
   "display_name": "Python [default]",
   "language": "python",
   "name": "python2"
  },
  "language_info": {
   "codemirror_mode": {
    "name": "ipython",
    "version": 2
   },
   "file_extension": ".py",
   "mimetype": "text/x-python",
   "name": "python",
   "nbconvert_exporter": "python",
   "pygments_lexer": "ipython2",
   "version": "2.7.12"
  }
 },
 "nbformat": 4,
 "nbformat_minor": 0
}
