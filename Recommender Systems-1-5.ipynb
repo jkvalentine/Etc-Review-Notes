{
 "cells": [
  {
   "cell_type": "markdown",
   "metadata": {},
   "source": [
    "## Recommender Systems\n",
    "* Goal: offer a user something they might be interested in\n",
    "* What is interest?\n",
    "    * Binary yes/no\n",
    "    * Ranked list\n",
    "    * Collection of items\n",
    "* What can we recommend?\n",
    "    * Like, Everything!!\n",
    "* Interpretability is important!\n",
    "#### What are recommender systems?\n",
    "* Field: Blend of CS, AI, HCI, CogPsy\n",
    "    * Serendipity\n",
    "    * Personalization\n",
    "    * Diversity\n",
    "    * Persistence\n",
    "    * Modality\n",
    "    * Privacy\n",
    "    * Motivation\n",
    "    * Trust\n",
    "##### Kinds of Data\n",
    "* Target person\n",
    "    * Middle aged? income? how often log in?\n",
    "* Target Item\n",
    "    * Is it expensive? Does it feature Nicholas Cage?\n",
    "* User-Item interactions\n",
    "    * Did many users buy/star/like/save/rate this item? What was typical rating?\n",
    "    * Did this user buy/star/etc many items? What was their typical rating behavior?\n",
    "##### Encoding Information\n",
    "* What does a 'like' mean? What about a 'view'?\n",
    "* Explicit vs. Implicit\n",
    "    * Did the user take a clear and explicit action?\n",
    "##### Collaborative Filtering\n",
    "* Advantages\n",
    "    * Content Agnostic- Feature Engineering not required\n",
    "    * Inherently social\n",
    "        * Potential for social explanations\n",
    "        * Popularity naturally built in, in a way\n",
    "    * One rating helps many people ('collaborative')\n",
    "* Limitations\n",
    "    * Content Agnostic\n",
    "        * May not take advantage of all information known about people/items\n",
    "    * Inherently social\n",
    "        * User privacy!\n",
    "    * Sparsity ... it's really tough\n",
    "        * Low ratings or overlaps (similarity) can lead to relatively little information going into each prediction\n",
    "        * High person/item churn can lead to low overlaps\n",
    "        * Single-user case is absolute fail\n",
    "#### Similarity\n",
    "* Doesn't require much interaction data, only one interaction\n",
    "    * Advantages\n",
    "        * User info requirements very low\n",
    "            * Interactions/ratings not needed to compute similarities\n",
    "            * Time to first utility is 1 rating\n",
    "        * Potential for High interpretability of similarities and recommendations\n",
    "        * Modality preserved\n",
    "        * Runtime requirements are low\n",
    "            * Heavy computation can be done offline\n",
    "        * Single-user case ok\n",
    "        * Potentially useful side-effects: similarities, topics, topic distributions\n",
    "    * Limitations\n",
    "        * Item info requirements pretty high\n",
    "        * Info about person not taken into account\n",
    "        * High computer requirements for dimensionality reduction\n",
    "        * Can be difficult to evaluate quality of dimensionality reduction\n",
    "        * Solipsistic (not inherently social)\n",
    "        * Overall trends ignored, pointwise recommendations only (not learning things I love, just i like this so I like this, item to item)"
   ]
  },
  {
   "cell_type": "markdown",
   "metadata": {},
   "source": [
    "### Matrix Factorization for Recommenders\n",
    "* Collaborative: Memory Based- store data to query what/whom is most similar when asked to recommend\n",
    "* Factorization: Model based- creates predictions, from which the most suitable can be recommended\n"
   ]
  }
 ],
 "metadata": {
  "anaconda-cloud": {},
  "kernelspec": {
   "display_name": "Python [default]",
   "language": "python",
   "name": "python2"
  },
  "language_info": {
   "codemirror_mode": {
    "name": "ipython",
    "version": 2
   },
   "file_extension": ".py",
   "mimetype": "text/x-python",
   "name": "python",
   "nbconvert_exporter": "python",
   "pygments_lexer": "ipython2",
   "version": "2.7.12"
  }
 },
 "nbformat": 4,
 "nbformat_minor": 0
}
