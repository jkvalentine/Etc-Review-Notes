{
 "cells": [
  {
   "cell_type": "markdown",
   "metadata": {},
   "source": [
    "# Cost functions of Linear and Logistic Regression\n",
    "\n",
    "* Give a numerical value for how well our fit approximates our data\n",
    "\n",
    "## Linear Regression Cost\n",
    "\n",
    "* RSS: sum of squares of residuals (difference between observed data and predicted data)\n",
    "\n",
    "* Want to minimize cost via f(x) -> optimize beta values\n",
    "\n",
    "* Normal equation: B = (XTX)^-1XTy (closed form)\n",
    "    * Closed form: plug in values to find beta, straight to the solution\n",
    "\n",
    "## Logistic Regression Cost\n",
    "\n",
    "* Maximizing log-likelihood, taking negation to minimize [Cost = -Log Likelihood]\n",
    "\n",
    "* No closed form solution for this, we have to iterate to find one!\n",
    "\n",
    "## Gradient Descent/Ascent\n",
    "\n",
    "* &#914;.new = &#914;.old - &#945; * gradient\n",
    "    * Alpha is the learning rate; small parameter we set\n",
    "* Gradient Ascent:\n",
    "    * Choose a starting point (Initialize &#914; coefficients, usually choose 0)\n",
    "    * Repeat until incremental increase in likelihood is sufficiently small\n",
    "        * |previous cost - current cost| < \t&#949;\n",
    "        * Take a step in the direction of steepest slope (gradient) upwards\n",
    "        * &#914; <-- &#914; - &#945; * gradient"
   ]
  },
  {
   "cell_type": "markdown",
   "metadata": {},
   "source": [
    " ## Stochastic Gradient Descent\n",
    " \n",
    " * Start gradient descent with one data point to get a quick iteration, then move onto another one, and so on until convergence\n",
    " * Method\n",
    "     * Initialize &#914;\n",
    "     * Shuffle order of data points\n",
    "     * Repeat until (change in cost function < &#949;)\n",
    "         * for i = 1 to n (# data points):\n",
    "         \n",
    "         &#914; <-- &#914; - &#945; * gradient(i)"
   ]
  },
  {
   "cell_type": "code",
   "execution_count": null,
   "metadata": {
    "collapsed": true
   },
   "outputs": [],
   "source": []
  }
 ],
 "metadata": {
  "anaconda-cloud": {},
  "kernelspec": {
   "display_name": "Python [default]",
   "language": "python",
   "name": "python2"
  },
  "language_info": {
   "codemirror_mode": {
    "name": "ipython",
    "version": 2
   },
   "file_extension": ".py",
   "mimetype": "text/x-python",
   "name": "python",
   "nbconvert_exporter": "python",
   "pygments_lexer": "ipython2",
   "version": "2.7.12"
  }
 },
 "nbformat": 4,
 "nbformat_minor": 0
}
