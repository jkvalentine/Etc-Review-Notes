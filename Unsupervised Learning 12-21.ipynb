{
 "cells": [
  {
   "cell_type": "markdown",
   "metadata": {},
   "source": [
    "## Unsupervised Learning\n",
    "\n",
    "### Kmeans Algorithm\n",
    "* Run it a bunch of times to find the global optimum convergence\n",
    "    #### Elbow Method\n",
    "    * How to choose how many centroids we want to classify our data\n",
    "    * Look at cluster spread, find the point at the elbow!"
   ]
  },
  {
   "cell_type": "markdown",
   "metadata": {},
   "source": [
    "## Hierarchical Clustering\n",
    "* Start out with number of clusters equaling number of datapoints, cluster up until we have one large cluster\n",
    "* Distance similarity\n",
    "    * Euclidean\n",
    "    * Cosine Similarity - text\n",
    "    * Jacard Similarity - \n",
    "## Check out DBSCAN clustering"
   ]
  },
  {
   "cell_type": "code",
   "execution_count": null,
   "metadata": {
    "collapsed": true
   },
   "outputs": [],
   "source": []
  }
 ],
 "metadata": {
  "anaconda-cloud": {},
  "kernelspec": {
   "display_name": "Python [default]",
   "language": "python",
   "name": "python2"
  },
  "language_info": {
   "codemirror_mode": {
    "name": "ipython",
    "version": 2
   },
   "file_extension": ".py",
   "mimetype": "text/x-python",
   "name": "python",
   "nbconvert_exporter": "python",
   "pygments_lexer": "ipython2",
   "version": "2.7.12"
  }
 },
 "nbformat": 4,
 "nbformat_minor": 0
}
