{
 "cells": [
  {
   "cell_type": "markdown",
   "metadata": {},
   "source": [
    "### Hadoop: MapReduce and HDFS\n",
    "* Why? \n",
    "    * the data is huge!\n",
    "* How do we store, access, and process hundreds of TB of data?\n",
    "* Hadoop is a cluster operating system made of:\n",
    "    * HDFS: coordinates processing data across a cluster of machines\n",
    "    * MapReduce: coordinates processing data across a cluster of machines\n",
    "#### Hadoop Cluster\n",
    "* Subsystem\t- Master Node - Worker Node\n",
    "* HDFS - NameNode - DataNode\n",
    "* MapReduce - JobTracker - TaskTracker\n",
    "* Take a bunch of weak, limited computers and bring them together to\n",
    "* Replicating blocks of data, keeping track of where everything is\n",
    "#### MapReduce Notes\n",
    "* How does MapReduce work?\n",
    "* Organize data into key, value pairs (Map)\n",
    "* Sort and process data (Reduce)"
   ]
  },
  {
   "cell_type": "markdown",
   "metadata": {},
   "source": [
    "### MapReduce Abstractions\n",
    "#### Hive and Pige\n",
    "* Why?\n",
    "    * Write MapReduce programs like SQL, then convert to MapReduce on the fly\n",
    "    * HiveQL\n",
    "        * Developed at Facebook\n",
    "        * Translates SQL to generate MapReduce code\n",
    "        * Dialect of SQL\n",
    "        * Data scientists can use SQL instead of MapReduce to process data\n",
    "     * Pig\n",
    "         * Developed at Yahoo!\n",
    "         * Solves same problem as Hive\n",
    "         * Uses scripting language called PigLatin\n",
    "         * Resembles scripting languages like Python and Perl\n",
    "         * Used frequently for processing unstructured or poorly formed data"
   ]
  },
  {
   "cell_type": "markdown",
   "metadata": {},
   "source": [
    "### Advanced MapReduce Applications\n",
    "##### Combiner\n",
    "* Only for associative and commutative functions\n",
    "* "
   ]
  }
 ],
 "metadata": {
  "anaconda-cloud": {},
  "kernelspec": {
   "display_name": "Python [default]",
   "language": "python",
   "name": "python2"
  },
  "language_info": {
   "codemirror_mode": {
    "name": "ipython",
    "version": 2
   },
   "file_extension": ".py",
   "mimetype": "text/x-python",
   "name": "python",
   "nbconvert_exporter": "python",
   "pygments_lexer": "ipython2",
   "version": "2.7.12"
  }
 },
 "nbformat": 4,
 "nbformat_minor": 0
}
