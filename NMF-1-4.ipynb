{
 "cells": [
  {
   "cell_type": "markdown",
   "metadata": {},
   "source": [
    "## Non-Negative Matrix Factorization\n",
    "* THIS SHIT IS COOL\n",
    "* X ≈ W * H\n",
    "    * The columns in W (k) represent the latent features of the decomposition of X in latent feature space (topics). \n",
    "    * The rows in W (n) represent each document from X. Any entry in W represents how much of each topic is represented in each document. \n",
    "    * Columns in H are words (m) in our original X matrix and rows (k) are our latent features \n",
    "* How to find W and H?- no closed solution\n",
    "    * Alternating Least Squares- hold one matrix constant, solve for the other\n",
    "        * "
   ]
  }
 ],
 "metadata": {
  "kernelspec": {
   "display_name": "Python [default]",
   "language": "python",
   "name": "python2"
  },
  "language_info": {
   "codemirror_mode": {
    "name": "ipython",
    "version": 2
   },
   "file_extension": ".py",
   "mimetype": "text/x-python",
   "name": "python",
   "nbconvert_exporter": "python",
   "pygments_lexer": "ipython2",
   "version": "2.7.12"
  }
 },
 "nbformat": 4,
 "nbformat_minor": 0
}
