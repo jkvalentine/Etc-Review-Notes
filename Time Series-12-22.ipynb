{
 "cells": [
  {
   "cell_type": "markdown",
   "metadata": {},
   "source": [
    "## Time Series\n",
    "* Independent regular units of time\n",
    "* Not allowed to have missing values of the dependent variable\n",
    "* Data we care most about would be outliers in regression \n",
    "* Discrete Time\n",
    "* No missing observations\n",
    "* Components of a time series\n",
    "    * Trend - more consistent\n",
    "    * Seasonal\n",
    "    * Cyclic - time varying"
   ]
  },
  {
   "cell_type": "markdown",
   "metadata": {},
   "source": [
    "### Exponential Smoothing\n",
    "* Constantly updating \n",
    "* Smooths out irregular shocks to model trend and seasonality\n",
    "* Keeps track of state\n",
    "* Fairly robust\n",
    "* Easy to explain to non-technical folks\n",
    "* Uses recent history so it forgets things in the past\n",
    "* The bigger the error in a model, the more this model corrects for it\n",
    "* "
   ]
  },
  {
   "cell_type": "markdown",
   "metadata": {},
   "source": [
    "### ARIMA\n",
    "* AR(p): Auto-Regression of order p\n",
    "* I: integrated- differenceing (discrete way to do derviatives)\n",
    "* "
   ]
  }
 ],
 "metadata": {
  "anaconda-cloud": {},
  "kernelspec": {
   "display_name": "Python [default]",
   "language": "python",
   "name": "python2"
  },
  "language_info": {
   "codemirror_mode": {
    "name": "ipython",
    "version": 2
   },
   "file_extension": ".py",
   "mimetype": "text/x-python",
   "name": "python",
   "nbconvert_exporter": "python",
   "pygments_lexer": "ipython2",
   "version": "2.7.12"
  }
 },
 "nbformat": 4,
 "nbformat_minor": 0
}
