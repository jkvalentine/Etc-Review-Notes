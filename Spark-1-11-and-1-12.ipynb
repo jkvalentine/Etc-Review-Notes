{
 "cells": [
  {
   "cell_type": "markdown",
   "metadata": {},
   "source": [
    "## Spark\n",
    "* Rapidly updating\n",
    "* RDD\n",
    "* A schema allows us to do computations more efficiently, very relevant for huge datasets\n",
    "* Narrow Vs. Wide\n",
    "    * Map is the narrow part, reduce is the wide part because of shuffle(wide as in parts are on multiple machines)"
   ]
  },
  {
   "cell_type": "markdown",
   "metadata": {},
   "source": [
    "## Spark Machine Learning\n",
    "* Specify input for machine learning model\n",
    "* Transformer type in spark\n",
    "    * Implement a transform method\n",
    "    * Convert one df into another, usually by adding columns\n",
    "* Estimators\n",
    "    * Implement a fit method whose argument is a df\n",
    "    * Output of fit is another type called Model, which is a Transformer\n",
    "    * Final output of model.transform gives us predictions!\n",
    "    "
   ]
  }
 ],
 "metadata": {
  "anaconda-cloud": {},
  "kernelspec": {
   "display_name": "Python [default]",
   "language": "python",
   "name": "python2"
  },
  "language_info": {
   "codemirror_mode": {
    "name": "ipython",
    "version": 2
   },
   "file_extension": ".py",
   "mimetype": "text/x-python",
   "name": "python",
   "nbconvert_exporter": "python",
   "pygments_lexer": "ipython2",
   "version": "2.7.12"
  }
 },
 "nbformat": 4,
 "nbformat_minor": 0
}
