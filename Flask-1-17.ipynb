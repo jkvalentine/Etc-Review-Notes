{
 "cells": [
  {
   "cell_type": "markdown",
   "metadata": {},
   "source": [
    "## Flask\n",
    "* Client\n",
    "    * Makes requests\n",
    "    * HTTP methodology from the client point of view (GET, POST)\n",
    "* Server\n",
    "    * Receive a request, create a response, send the response\n",
    "* HTTP Request Methods\n",
    "    * CRUD style: Create, Read, Update, Delete\n",
    "    * GET\n",
    "        * 'get me news article #42'\n",
    "    * POST\n",
    "        * 'heads up this user is posting a comment with text \"foo\"'\n",
    "    * PUT\n",
    "        * 'user #123 just changed her email address'\n",
    "    * DELETE\n",
    "        * 'delete the draft email #789'\n",
    "    * GET and POST most widely used, often used in place of PUT/DELETE\n"
   ]
  },
  {
   "cell_type": "markdown",
   "metadata": {},
   "source": []
  },
  {
   "cell_type": "code",
   "execution_count": null,
   "metadata": {
    "collapsed": true
   },
   "outputs": [],
   "source": []
  }
 ],
 "metadata": {
  "anaconda-cloud": {},
  "kernelspec": {
   "display_name": "Python [default]",
   "language": "python",
   "name": "python2"
  },
  "language_info": {
   "codemirror_mode": {
    "name": "ipython",
    "version": 2
   },
   "file_extension": ".py",
   "mimetype": "text/x-python",
   "name": "python",
   "nbconvert_exporter": "python",
   "pygments_lexer": "ipython2",
   "version": "2.7.12"
  }
 },
 "nbformat": 4,
 "nbformat_minor": 0
}
