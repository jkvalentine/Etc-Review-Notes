{
 "cells": [
  {
   "cell_type": "markdown",
   "metadata": {},
   "source": [
    "The Bernoulli process is a single trial that ends with either success (that occurs with p probability) or failure. If you want to know:\n",
    " * How many successes in n trials? -> Binomial\n",
    " * Will this single trial be a success? -> Bernoulli\n",
    " * How many trials until the 1st success? -> Geometric\n",
    " * How many trials until the r-th success? -> Negative binomial\n",
    " * Given M successes out of N trials, how many of the first n are successes? -> Hypergeometric\n",
    "\n",
    "I think of the Poisson process as the continuous version of the Bernoulli. Time is discrete in Bernoulli trials vs continuous for Poisson. If you want to know:\n",
    " * How many events occur in an interval of length (t)? -> Poisson\n",
    " * How long until your first event? -> Exponential\n",
    " * How long until the r-th event? -> Gamma\n",
    " * Given (A+B) events in a given interval, what fraction of the interval will it take until the Ath event occurs? -> Beta"
   ]
  },
  {
   "cell_type": "markdown",
   "metadata": {},
   "source": [
    "Distribution Help\n",
    "http://www.math.wm.edu/~leemis/chart/UDR/UDR.html\n",
    "\n",
    "http://www.cs.elte.hu/~mesti/valszam/kepletek.pdf"
   ]
  },
  {
   "cell_type": "code",
   "execution_count": 1,
   "metadata": {
    "collapsed": true
   },
   "outputs": [],
   "source": [
    "mat = [[1,2,3],[4,5,6],[7,8,9]]\n",
    "diag = [ mat[i][i] for i in range(len(mat)) ]"
   ]
  },
  {
   "cell_type": "code",
   "execution_count": 2,
   "metadata": {
    "collapsed": false
   },
   "outputs": [
    {
     "data": {
      "text/plain": [
       "[1, 5, 9]"
      ]
     },
     "execution_count": 2,
     "metadata": {},
     "output_type": "execute_result"
    }
   ],
   "source": [
    "diag"
   ]
  },
  {
   "cell_type": "code",
   "execution_count": null,
   "metadata": {
    "collapsed": true
   },
   "outputs": [],
   "source": []
  }
 ],
 "metadata": {
  "anaconda-cloud": {},
  "kernelspec": {
   "display_name": "Python [default]",
   "language": "python",
   "name": "python2"
  },
  "language_info": {
   "codemirror_mode": {
    "name": "ipython",
    "version": 2
   },
   "file_extension": ".py",
   "mimetype": "text/x-python",
   "name": "python",
   "nbconvert_exporter": "python",
   "pygments_lexer": "ipython2",
   "version": "2.7.12"
  }
 },
 "nbformat": 4,
 "nbformat_minor": 0
}
