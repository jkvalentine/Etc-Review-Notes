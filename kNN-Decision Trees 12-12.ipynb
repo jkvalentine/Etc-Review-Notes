{
 "cells": [
  {
   "cell_type": "markdown",
   "metadata": {},
   "source": [
    "## Non-Parametric Learning Algorithms\n",
    "\n",
    "### kNN Algorithm\n",
    "* Training\n",
    "    * Store the data\n",
    "* Prediction\n",
    "    * Find the k nearest points to the new point\n",
    "    * k=1 and k=n are extremes"
   ]
  },
  {
   "cell_type": "markdown",
   "metadata": {},
   "source": [
    "### Distance\n",
    "* Euclidean\n",
    "    * Straight Line\n",
    "    \n",
    "* Manhattan\n",
    "    * City blocks\n",
    "    \n",
    "* Cosine\n",
    "    * Angle \n",
    "    \n",
    "#### Fature scaling can affect distance!"
   ]
  },
  {
   "cell_type": "markdown",
   "metadata": {},
   "source": [
    "## Runtime\n",
    "* Training\n",
    "    * Fast, sometimes even trivial (if data already stored as needed)\n",
    "    * Online updates are easy (just another data point)\n",
    "* Prediction\n",
    "    * Slow\n",
    "    * IO bound (the cost is reading through data, not calculations)"
   ]
  },
  {
   "cell_type": "markdown",
   "metadata": {},
   "source": [
    "## Curse of DImensionality\n",
    "* As dimensionality increases, performance commonly decreaes\n",
    "\n",
    "* 'Nearest' neighbors are no longer 'nearby' neighbors\n",
    "\n",
    "* Adding useful features"
   ]
  },
  {
   "cell_type": "markdown",
   "metadata": {
    "collapsed": true
   },
   "source": [
    "## Decision Trees\n",
    "* Think of it as a tree, with branches and leaves\n",
    "* Recursive structure, \n",
    "* Nodes - decision point\n",
    "    * Root\n",
    "    * Leaves- have no children\n",
    "* Edges"
   ]
  },
  {
   "cell_type": "markdown",
   "metadata": {
    "collapsed": true
   },
   "source": [
    "## Build the decision tree!\n",
    "* Make some splits\n",
    "* Ask the most useful questions first\n",
    "    * What gives us the most information gain?\n",
    "* Entropy of a set is a measure of the amount of disorder\n",
    "* Create splits that minimize the entropy in each side of the split\n",
    "* Compare entropy of child to the parent- use max gain!"
   ]
  },
  {
   "cell_type": "markdown",
   "metadata": {
    "collapsed": true
   },
   "source": [
    "## Pruning"
   ]
  },
  {
   "cell_type": "code",
   "execution_count": null,
   "metadata": {
    "collapsed": true
   },
   "outputs": [],
   "source": []
  },
  {
   "cell_type": "code",
   "execution_count": null,
   "metadata": {
    "collapsed": true
   },
   "outputs": [],
   "source": []
  }
 ],
 "metadata": {
  "anaconda-cloud": {},
  "kernelspec": {
   "display_name": "Python [default]",
   "language": "python",
   "name": "python2"
  },
  "language_info": {
   "codemirror_mode": {
    "name": "ipython",
    "version": 2
   },
   "file_extension": ".py",
   "mimetype": "text/x-python",
   "name": "python",
   "nbconvert_exporter": "python",
   "pygments_lexer": "ipython2",
   "version": "2.7.12"
  }
 },
 "nbformat": 4,
 "nbformat_minor": 0
}
